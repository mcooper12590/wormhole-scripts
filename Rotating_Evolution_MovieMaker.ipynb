{
 "cells": [
  {
   "cell_type": "code",
   "execution_count": 3,
   "metadata": {},
   "outputs": [
    {
     "name": "stdout",
     "output_type": "stream",
     "text": [
      "Using matplotlib backend: Qt5Agg\n",
      "Populating the interactive namespace from numpy and matplotlib\n"
     ]
    }
   ],
   "source": [
    "%pylab\n",
    "\n",
    "from imageio import mimread\n",
    "from mayavi import mlab\n",
    "from glob import glob"
   ]
  },
  {
   "cell_type": "code",
   "execution_count": 14,
   "metadata": {},
   "outputs": [],
   "source": [
    "#img = array(mimread(\"/media/maxc/Data/Tomography/Time_Series/PZ103/Subtractions/PZ103_01-20.tif\"))\n",
    "\n",
    "fpre = \"/media/maxc/Data/Tomography/Time_Series/PZ103/Subtractions/PZ103_01-\"\n",
    "fsuf = \".tif\"\n",
    "\n",
    "files = sorted(glob(fpre + \"*\" + fsuf))\n",
    "\n",
    "# Load all images into memory. For larger images where RAM will overfill this should be replaced\n",
    "# with a function that loads one at a time\n",
    "imgs = [array(mimread(f)) for f in files]"
   ]
  },
  {
   "cell_type": "code",
   "execution_count": null,
   "metadata": {},
   "outputs": [],
   "source": [
    "mlab.pipeline.volume(mlab.pipeline.scalar_field(img.T), vmin=380, vmax=500)\n",
    "@mlab.animate\n",
    "def anim():\n",
    "    f = mlab.gcf()\n",
    "    while 1:\n",
    "        f.scene.camera.azimuth(1)\n",
    "        f.scene.render()\n",
    "        yield\n",
    "\n",
    "a = anim()"
   ]
  },
  {
   "cell_type": "code",
   "execution_count": null,
   "metadata": {},
   "outputs": [],
   "source": [
    "vol.mlab_source.scalars = img2.T"
   ]
  },
  {
   "cell_type": "code",
   "execution_count": 26,
   "metadata": {},
   "outputs": [],
   "source": [
    "import  moviepy.editor as mpy\n",
    "\n",
    "fig = mlab.figure(size=(1920,1080))\n",
    "vol = mlab.pipeline.volume(mlab.pipeline.scalar_field(imgs[0].T), vmin=360, vmax=500)\n",
    "vol.volume_mapper_type = 'FixedPointVolumeRayCastMapper'\n",
    "count = 0\n",
    "#fig = mlab.gcf()\n",
    "def schedule(t):\n",
    "    if t%2 == 0.0 and t!=0:\n",
    "        vol.mlab_source.scalars = imgs[int(t/2)].T\n",
    "        print(\"Time slice \" + str(t/2+1))\n",
    "        print(t)\n",
    "    fig.scene.camera.azimuth(1)\n",
    "    fig.scene.render()\n",
    "    return mlab.screenshot()"
   ]
  },
  {
   "cell_type": "code",
   "execution_count": 27,
   "metadata": {},
   "outputs": [
    {
     "name": "stdout",
     "output_type": "stream",
     "text": [
      "Time slice 2.0\n",
      "2.0\n",
      "Time slice 3.0\n",
      "4.0\n",
      "Time slice 4.0\n",
      "6.0\n",
      "Time slice 5.0\n",
      "8.0\n",
      "Time slice 6.0\n",
      "10.0\n",
      "Time slice 7.0\n",
      "12.0\n",
      "Time slice 8.0\n",
      "14.0\n",
      "Time slice 9.0\n",
      "16.0\n",
      "Time slice 10.0\n",
      "18.0\n",
      "Time slice 11.0\n",
      "20.0\n",
      "Time slice 12.0\n",
      "22.0\n",
      "Time slice 13.0\n",
      "24.0\n",
      "Time slice 14.0\n",
      "26.0\n",
      "Time slice 15.0\n",
      "28.0\n",
      "Time slice 16.0\n",
      "30.0\n",
      "Time slice 17.0\n",
      "32.0\n",
      "Time slice 18.0\n",
      "34.0\n",
      "Time slice 19.0\n",
      "36.0\n",
      "Time slice 20.0\n",
      "38.0\n",
      "Time slice 21.0\n",
      "40.0\n",
      "Time slice 22.0\n",
      "42.0\n",
      "Time slice 23.0\n",
      "44.0\n",
      "Time slice 24.0\n",
      "46.0\n",
      "Time slice 25.0\n",
      "48.0\n",
      "Time slice 26.0\n",
      "50.0\n",
      "Time slice 27.0\n",
      "52.0\n",
      "Time slice 28.0\n",
      "54.0\n",
      "Time slice 29.0\n",
      "56.0\n",
      "Time slice 30.0\n",
      "58.0\n",
      "Time slice 31.0\n",
      "60.0\n",
      "Time slice 32.0\n",
      "62.0\n",
      "Time slice 33.0\n",
      "64.0\n",
      "Time slice 34.0\n",
      "66.0\n",
      "Time slice 35.0\n",
      "68.0\n",
      "Time slice 36.0\n",
      "70.0\n",
      "Time slice 37.0\n",
      "72.0\n",
      "Time slice 38.0\n",
      "74.0\n",
      "Time slice 39.0\n",
      "76.0\n",
      "Time slice 40.0\n",
      "78.0\n",
      "Time slice 41.0\n",
      "80.0\n",
      "Time slice 42.0\n",
      "82.0\n",
      "Time slice 43.0\n",
      "84.0\n",
      "Time slice 44.0\n",
      "86.0\n",
      "Time slice 45.0\n",
      "88.0\n",
      "Time slice 46.0\n",
      "90.0\n",
      "Time slice 47.0\n",
      "92.0\n",
      "Time slice 48.0\n",
      "94.0\n",
      "Time slice 49.0\n",
      "96.0\n"
     ]
    }
   ],
   "source": [
    "animation = mpy.VideoClip(schedule, duration=98)\n",
    "animation.write_videofile(\"movtest.avi\", fps=60, codec=\"libx264\", logger=None)\n",
    "mlab.close()"
   ]
  },
  {
   "cell_type": "code",
   "execution_count": null,
   "metadata": {},
   "outputs": [],
   "source": []
  },
  {
   "cell_type": "code",
   "execution_count": null,
   "metadata": {},
   "outputs": [],
   "source": []
  },
  {
   "cell_type": "code",
   "execution_count": null,
   "metadata": {},
   "outputs": [],
   "source": []
  },
  {
   "cell_type": "code",
   "execution_count": null,
   "metadata": {},
   "outputs": [],
   "source": []
  }
 ],
 "metadata": {
  "kernelspec": {
   "display_name": "Python 3",
   "language": "python",
   "name": "python3"
  },
  "language_info": {
   "codemirror_mode": {
    "name": "ipython",
    "version": 3
   },
   "file_extension": ".py",
   "mimetype": "text/x-python",
   "name": "python",
   "nbconvert_exporter": "python",
   "pygments_lexer": "ipython3",
   "version": "3.8.3"
  }
 },
 "nbformat": 4,
 "nbformat_minor": 4
}
