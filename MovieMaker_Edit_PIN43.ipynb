{
 "cells": [
  {
   "cell_type": "code",
   "execution_count": 1,
   "metadata": {},
   "outputs": [
    {
     "name": "stdout",
     "output_type": "stream",
     "text": [
      "Using matplotlib backend: Qt5Agg\n",
      "Populating the interactive namespace from numpy and matplotlib\n"
     ]
    }
   ],
   "source": [
    "%pylab\n",
    "import matplotlib.dates as mdates\n",
    "from moviepy.video.io.bindings import mplfig_to_npimage\n",
    "import moviepy.editor as mpy\n",
    "import pandas"
   ]
  },
  {
   "cell_type": "code",
   "execution_count": 3,
   "metadata": {},
   "outputs": [
    {
     "name": "stdout",
     "output_type": "stream",
     "text": [
      "(966, 600, 3)\n"
     ]
    }
   ],
   "source": [
    "# Load generated movie\n",
    "rotmov = mpy.VideoFileClip(\"PIN43_Evo_Rotate_Quick3.avi\")\n",
    "\n",
    "# determine sizes and offsets for plotting the rotating data\n",
    "fsize = rotmov.get_frame(20).shape\n",
    "print(fsize)\n",
    "rotw = fsize[1]\n",
    "roth = fsize[0]\n",
    "rotoffh = int((1080-roth)/2)-1\n",
    "rotoffw = int((1920-rotw)/2)\n",
    "\n",
    "# Background color\n",
    "bgcolor = array([126, 126, 126])\n",
    "scolor = bgcolor/255 # Scaled to 255\n",
    "\n",
    "# Create an initial frame buffer\n",
    "fbuffer = ones((1080,1920,3)).astype(uint8)*0\n",
    "fbuffer[:,rotoffw:rotoffw+rotw,:] = 126\n",
    "rotframe = rotmov.get_frame(20)\n",
    "fbuffer[rotoffh:rotoffh+roth,rotoffw:rotoffw+rotw,:] = rotframe\n",
    "\n",
    "imshow(fbuffer)\n",
    "show()\n",
    "\n",
    "def mkframe(t):\n",
    "    rotframe = rotmov.get_frame(t)\n",
    "    fbuffer[rotoffh:rotoffh+roth,rotoffw:rotoffw+rotw,:] = rotframe\n",
    "    return fbuffer"
   ]
  },
  {
   "cell_type": "code",
   "execution_count": 4,
   "metadata": {},
   "outputs": [
    {
     "name": "stderr",
     "output_type": "stream",
     "text": [
      "t:   0%|          | 9/2400 [00:00<00:29, 80.51it/s, now=None]"
     ]
    },
    {
     "name": "stdout",
     "output_type": "stream",
     "text": [
      "Moviepy - Building video PIN43_EvoRot_QuickEdit2.avi.\n",
      "Moviepy - Writing video PIN43_EvoRot_QuickEdit2.avi\n",
      "\n"
     ]
    },
    {
     "name": "stderr",
     "output_type": "stream",
     "text": [
      "                                                                \r"
     ]
    },
    {
     "name": "stdout",
     "output_type": "stream",
     "text": [
      "Moviepy - Done !\n",
      "Moviepy - video ready PIN43_EvoRot_QuickEdit2.avi\n"
     ]
    }
   ],
   "source": [
    "animation = mpy.VideoClip(mkframe, duration=40)#*2)\n",
    "animation.write_videofile(\"PIN43_EvoRot_QuickEdit2.avi\", fps=60, codec=\"libx264\")#, logger=None)"
   ]
  },
  {
   "cell_type": "code",
   "execution_count": null,
   "metadata": {},
   "outputs": [],
   "source": [
    "from matplotlib.backends.backend_pdf import PdfPages\n",
    "\n",
    "\n",
    "df = pandas.read_csv(\"/home/maxc/Desktop/wormhole-scripts/PZ103_PressureLog.csv\", sep=\";\", skiprows=4)\n",
    "dP = df.iloc[:-1,8:10]\n",
    "dP = dP.replace(regex=r'\\ [A|P]M*', value='')\n",
    "dP['Time SN:702643 (S30X):CH0'] = pandas.to_datetime(dP['Time SN:702643 (S30X):CH0'])\n",
    "dP = dP.set_index('Time SN:702643 (S30X):CH0')\n",
    "dP['SN:702643 (S30X):CH0 bar'] = pandas.to_numeric(dP['SN:702643 (S30X):CH0 bar'])\n",
    "\n",
    "ss = pandas.read_csv(\"/home/maxc/Desktop/wormhole-scripts/PZ103_ScanTimes.txt\", skiprows=3)\n",
    "ss['StartTime'] = pandas.to_datetime(ss['StartTime'])\n",
    "ss['EndTime'] = pandas.to_datetime(ss['EndTime'])\n",
    "\n",
    "bgcolor = array([126, 126, 126])\n",
    "scolor = bgcolor/255 # Scaled to 255\n",
    "\n",
    "with PdfPages('PressureCurveFrames.pdf') as pdf:\n",
    "    pfig= figure(figsize=(9.6,5.4))\n",
    "    pax = pfig.gca()\n",
    "\n",
    "    pax.set_xlim([dP.index[6],dP.index[-3]])\n",
    "    pax.xaxis.set_major_formatter(mdates.DateFormatter('%H:%M'))\n",
    "    dP[dP.index[6]:dP.index[-2]].plot(ax=pax, legend=False)\n",
    "    pax.set_xlabel(\"Time\", fontsize=20)\n",
    "    pax.set_ylabel(\"dP (atm)\", fontsize=20)\n",
    "\n",
    "    vert0 = pax.axvline(ss.values[0,0], color='k')\n",
    "    vert1 = pax.axvline(ss.values[0,1], color='k')\n",
    "    span = pax.axvspan(ss.values[0,0], ss.values[0,1], alpha=0.5, color=scolor)\n",
    "    frtext = pfig.text(0.93,0.9, \"02\", fontsize=20)\n",
    "    tight_layout()\n",
    "    pdf.savefig()\n",
    "\n",
    "    for t in arange(48)+1:\n",
    "        vert0.set_xdata(ss.values[int(t),0])\n",
    "        vert1.set_xdata(ss.values[int(t),1])\n",
    "        span.remove()\n",
    "        span = pax.axvspan(ss.values[int(t),0], ss.values[int(t),1], alpha=0.5, color=scolor)\n",
    "        frtext.set_text(str(t+2).zfill(2))\n",
    "        draw()\n",
    "        pdf.savefig()\n",
    "        "
   ]
  },
  {
   "cell_type": "code",
   "execution_count": 8,
   "metadata": {},
   "outputs": [
    {
     "data": {
      "text/plain": [
       "13850196.163121251"
      ]
     },
     "execution_count": 8,
     "metadata": {},
     "output_type": "execute_result"
    }
   ],
   "source": [
    "ro = 1.5875e-3\n",
    "rh = 1.575e-3\n",
    "#rh = 1.573e-3\n",
    "ri = 0.75e-3/2\n",
    "\n",
    "E = 3.7e9\n",
    "nu = 0.3779\n",
    "\n",
    "(ro - rh) * 1/(rh*( 1/E*(1+nu) +1/E * ( (rh**2+ri**2)/(rh**2-ri**2) - nu) ) )\n"
   ]
  },
  {
   "cell_type": "code",
   "execution_count": 2,
   "metadata": {},
   "outputs": [
    {
     "data": {
      "text/plain": [
       "0.003146"
      ]
     },
     "execution_count": 2,
     "metadata": {},
     "output_type": "execute_result"
    }
   ],
   "source": [
    "1.573e-3*2"
   ]
  },
  {
   "cell_type": "code",
   "execution_count": 7,
   "metadata": {},
   "outputs": [
    {
     "data": {
      "text/plain": [
       "1.5875"
      ]
     },
     "execution_count": 7,
     "metadata": {},
     "output_type": "execute_result"
    }
   ],
   "source": [
    "dline = 3.175\n",
    "dline/2"
   ]
  },
  {
   "cell_type": "code",
   "execution_count": 4,
   "metadata": {},
   "outputs": [
    {
     "data": {
      "text/plain": [
       "0.0015722"
      ]
     },
     "execution_count": 4,
     "metadata": {},
     "output_type": "execute_result"
    }
   ],
   "source": [
    "1.588e-3 - 1.58e-5"
   ]
  },
  {
   "cell_type": "code",
   "execution_count": 5,
   "metadata": {},
   "outputs": [
    {
     "data": {
      "text/plain": [
       "0.0031444"
      ]
     },
     "execution_count": 5,
     "metadata": {},
     "output_type": "execute_result"
    }
   ],
   "source": [
    "(1.588e-3 - 1.58e-5)*2"
   ]
  },
  {
   "cell_type": "code",
   "execution_count": 6,
   "metadata": {},
   "outputs": [
    {
     "data": {
      "text/plain": [
       "1.575"
      ]
     },
     "execution_count": 6,
     "metadata": {},
     "output_type": "execute_result"
    }
   ],
   "source": [
    "3.15/2"
   ]
  },
  {
   "cell_type": "code",
   "execution_count": 12,
   "metadata": {},
   "outputs": [
    {
     "data": {
      "text/plain": [
       "1.5721409375"
      ]
     },
     "execution_count": 12,
     "metadata": {},
     "output_type": "execute_result"
    }
   ],
   "source": [
    "dline/2-215*10.*dline/2"
   ]
  },
  {
   "cell_type": "code",
   "execution_count": null,
   "metadata": {},
   "outputs": [],
   "source": []
  }
 ],
 "metadata": {
  "kernelspec": {
   "display_name": "Python 3",
   "language": "python",
   "name": "python3"
  },
  "language_info": {
   "codemirror_mode": {
    "name": "ipython",
    "version": 3
   },
   "file_extension": ".py",
   "mimetype": "text/x-python",
   "name": "python",
   "nbconvert_exporter": "python",
   "pygments_lexer": "ipython3",
   "version": "3.8.5"
  }
 },
 "nbformat": 4,
 "nbformat_minor": 4
}
