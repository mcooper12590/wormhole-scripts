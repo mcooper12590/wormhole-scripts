{
 "cells": [
  {
   "cell_type": "code",
   "execution_count": null,
   "metadata": {},
   "outputs": [],
   "source": [
    "%pylab inline\n",
    "import imageio\n",
    "import skan\n",
    "import networkx as nx\n",
    "import glob\n",
    "from tqdm.notebook import tqdm\n",
    "import scipy.ndimage as ndi\n",
    "from skimage import morphology"
   ]
  },
  {
   "cell_type": "code",
   "execution_count": null,
   "metadata": {},
   "outputs": [],
   "source": [
    "recondir = \"/media/maxc/Data/Tomography/Time_Series/PZ103/Skeletons/Primary/\" #directory where skeletons live\n",
    "flist = sorted(glob.glob(recondir + \"*.tif\"))\n",
    "#All skeletons in 4D array. If they are too lrg for memory loading needs to be in loop\n",
    "skimgs = array([imageio.volread(i) for i in flist])"
   ]
  },
  {
   "cell_type": "code",
   "execution_count": null,
   "metadata": {},
   "outputs": [],
   "source": [
    "zoff = int(skimgs[0].shape[0]*0.01) # How many slices behind previous Z_max to check\n",
    "kern = zeros((3,3,3), dtype=bool) # Kernel for dilation\n",
    "kern[1] = 1 # Dilate only in X-Y, i.e. if a pixel is True, surround by True.\n",
    "\n",
    "nbranches = zeros(len(flist)) # Number of branches for a particular time slice\n",
    "zmax = zeros(len(flist)) # Z_max for time slices\n",
    "\n",
    "\n",
    "zmax[0] = where(any(skimgs[0], axis=(1,2)))[0].max() # Initial Z_max\n",
    "skel = skan.Skeleton(skimgs[0]) # Skeleton graph from binary skeleton volume\n",
    "G = nx.from_scipy_sparse_matrix(skel.graph) # Turn sparse connectivity matrix into networkx graph\n",
    "ncons = array([len(G.adj[k]) for k in arange(len(G.adj))]) # How many edge are connected to each node\n",
    "nbranches[0] = sum(ncons>=3) # Branch nodes are connected to 3 edges or greater"
   ]
  },
  {
   "cell_type": "code",
   "execution_count": null,
   "metadata": {},
   "outputs": [],
   "source": [
    "for i, fname in enumerate(tqdm(flist[1:])):\n",
    "    widx = int(zmax[i]-zoff) if zmax[i] - zoff >= 0 else 0 # Look at slices >= previous Z_max - zoff\n",
    "    ps = skimgs[i,widx:] # Previous skeleton\n",
    "    ps = ndi.binary_dilation(ps, kern) # Dilate previous skeleton in X-Y\n",
    "    ws = skimgs[i+1,widx:] # Current working skeleton\n",
    "    sd = (ws^ps)&ws # Subtract previous skeleton from current. Returns true if voxel is only in ws\n",
    "    if sum(sd) <= 510: # Check that subtraction isn't all False or too few True to construct graph\n",
    "        nbranches[i+1] = 0 # Num branches is 0 if all False or too few True (510 value is two voxels)\n",
    "        zmax[i+1] = zmax[i]\n",
    "        continue\n",
    "    skel = skan.Skeleton(sd) # Skeleton graph from subtracted binary skeletons\n",
    "    G = nx.from_scipy_sparse_matrix(skel.graph)\n",
    "    ncons = array([len(G.adj[k]) for k in arange(len(G.adj))])\n",
    "    nbranches[i+1] = sum(ncons>=3)\n",
    "    zmax[i+1] = where(any(skimgs[i+1], axis=(1,2)))[0].max() # Z_max of current working skeleton"
   ]
  },
  {
   "cell_type": "code",
   "execution_count": null,
   "metadata": {},
   "outputs": [],
   "source": [
    "import pandas\n",
    "from os.path import basename\n",
    "flist = [basename(i) for i in flist]\n",
    "df = pandas.DataFrame({\"Scan\":flist, \"NumBranches\":nbranches})\n",
    "plot(nbranches)\n",
    "show()\n",
    "df.to_csv(\"PZ103_deltabranch.csv\")"
   ]
  },
  {
   "cell_type": "code",
   "execution_count": null,
   "metadata": {},
   "outputs": [],
   "source": []
  }
 ],
 "metadata": {
  "kernelspec": {
   "display_name": "Python 3",
   "language": "python",
   "name": "python3"
  },
  "language_info": {
   "codemirror_mode": {
    "name": "ipython",
    "version": 3
   },
   "file_extension": ".py",
   "mimetype": "text/x-python",
   "name": "python",
   "nbconvert_exporter": "python",
   "pygments_lexer": "ipython3",
   "version": "3.8.5"
  }
 },
 "nbformat": 4,
 "nbformat_minor": 4
}
